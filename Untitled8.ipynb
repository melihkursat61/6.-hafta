{
  "nbformat": 4,
  "nbformat_minor": 0,
  "metadata": {
    "colab": {
      "provenance": [],
      "authorship_tag": "ABX9TyNChfYkoC1SsBGZsTdB+I2F",
      "include_colab_link": true
    },
    "kernelspec": {
      "name": "python3",
      "display_name": "Python 3"
    },
    "language_info": {
      "name": "python"
    }
  },
  "cells": [
    {
      "cell_type": "markdown",
      "metadata": {
        "id": "view-in-github",
        "colab_type": "text"
      },
      "source": [
        "<a href=\"https://colab.research.google.com/github/melihkursat61/6.-hafta/blob/main/Untitled8.ipynb\" target=\"_parent\"><img src=\"https://colab.research.google.com/assets/colab-badge.svg\" alt=\"Open In Colab\"/></a>"
      ]
    },
    {
      "cell_type": "code",
      "execution_count": 2,
      "metadata": {
        "id": "jEMtgI5ZHKnR"
      },
      "outputs": [],
      "source": [
        "import requests\n",
        "from bs4 import BeautifulSoup\n",
        "\n",
        "def günlük_haber_link_oluşturucu(sayfa_url):\n",
        "    r = requests.get(sayfa_url)\n",
        "    soup = BeautifulSoup(r.content, features=\"html.parser\")\n",
        "\n",
        "    # Correcting the 'find_all' call and the attributes\n",
        "    list = soup.find_all(name=\"div\", attrs={\"class\": \"f-cat f-item\"})\n",
        "\n",
        "    for i in list:\n",
        "        print(\"=================================================\")\n",
        "        # Make sure to correctly use find_all\n",
        "        for b in i.find_all(\"a\"):  # Corrected '1.findal' to 'i.find_all'\n",
        "            my_link = b.get(\"href\") + \"\\n\"  # 'link' should be 'b'\n",
        "            new_link = \"https://www.millgazete.com.tr{}\".format(my_link)\n",
        "            print(new_link)\n"
      ]
    }
  ]
}